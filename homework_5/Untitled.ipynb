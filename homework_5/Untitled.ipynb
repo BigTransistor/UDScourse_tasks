{
 "cells": [
  {
   "cell_type": "code",
   "execution_count": null,
   "metadata": {},
   "outputs": [],
   "source": [
    "from sklearn.tree import DecisionTreeClassifier\n",
    "params = {\n",
    "          'criterion':['gini', 'entropy'],\n",
    "          'splitter': ['best' , 'random'],\n",
    "          'max_depth': [5 ,10 , 20 , 50 ,None] , \n",
    "          'min_samples_split': [ 5 ,  10 ,  20 , 50, 80 , 120 , 150] ,\n",
    "          'max_features': [  100 , 200,  300 ,None],\n",
    "         }\n",
    "\n",
    "grid_search = GridSearchCV(\n",
    "    estimator = DecisionTreeClassifier(random_state=42 , class_weight = 'balanced' ), \n",
    "    param_grid = params,\n",
    "    cv=skf, \n",
    "    scoring= 'roc_auc', \n",
    "    n_jobs= -1,\n",
    "    verbose=2, \n",
    "    error_score=1,  # warnings only\n",
    ")\n",
    "grid_search.fit(X , y)\n",
    "\n",
    "decisionTree_best = grid_search.best_estimator_\n",
    "print('best params : ' + str(grid_search.best_params_))\n",
    "print('best score : ' + str(grid_search.best_score_))"
   ]
  },
  {
   "cell_type": "code",
   "execution_count": null,
   "metadata": {},
   "outputs": [],
   "source": [
    "from sklearn.ensemble import ExtraTreesClassifier\n",
    "params = {\n",
    "          'criterion':['gini', 'entropy'],\n",
    "          'max_depth': [5 ,10 , 20 , 30 , 50 , None] , \n",
    "          'min_samples_split': [ 10 , 50 , 100 , 150 , 200] ,\n",
    "          'max_features': [  100 , 200 , 300 ,None],\n",
    "         }\n",
    "\n",
    "grid_search = GridSearchCV(\n",
    "    estimator =  ExtraTreesClassifier(n_estimators= 10 , \n",
    "                                      random_state=42 , \n",
    "                                      n_jobs = -1 ,\n",
    "                                      class_weight = 'balanced'), \n",
    "    param_grid = params,\n",
    "    cv=3, \n",
    "    scoring='roc_auc', \n",
    "    n_jobs= -1,\n",
    "    verbose=2,  \n",
    "    error_score=1,  # warnings only\n",
    ")\n",
    "grid_search.fit(X , y)\n",
    "\n",
    "extraTrees_best = grid_search.best_estimator_\n",
    "print(grid_search.best_params_)\n",
    "print(grid_search.best_score_)\n",
    "\n",
    "extraTrees_best.n_estimators = 100\n",
    "cross_val_score(randomForest_best , X , y, cv =skf , scoring =  \"roc_auc\" , n_jobs = -1 ).mean()"
   ]
  }
 ],
 "metadata": {
  "kernelspec": {
   "display_name": "Python 3",
   "language": "python",
   "name": "python3"
  },
  "language_info": {
   "codemirror_mode": {
    "name": "ipython",
    "version": 3
   },
   "file_extension": ".py",
   "mimetype": "text/x-python",
   "name": "python",
   "nbconvert_exporter": "python",
   "pygments_lexer": "ipython3",
   "version": "3.6.4"
  }
 },
 "nbformat": 4,
 "nbformat_minor": 2
}
